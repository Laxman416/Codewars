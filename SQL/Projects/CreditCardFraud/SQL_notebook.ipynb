{
 "cells": [
  {
   "cell_type": "markdown",
   "metadata": {},
   "source": [
    "# <a id='toc1_'></a>[Credit Card Fraud](#toc0_)\n",
    "\n",
    "### <a id='toc1_1_1_'></a>[Introduction](#toc0_)\n",
    "\n",
    "This dataset consists of credit card transactions in the western United States. It includes information about each transaction including customer details, the merchant and category of purchase, and whether or not the transaction was a fraud.\n",
    "\n"
   ]
  },
  {
   "cell_type": "markdown",
   "metadata": {},
   "source": [
    "**Table of contents**<a id='toc0_'></a>    \n",
    "- [Credit Card Fraud](#toc1_)    \n",
    "    - [Introduction](#toc1_1_1_)    \n",
    "    - [Convert CSV to .db file](#toc1_1_2_)    \n",
    "    - [Load the SQL Extension and Database](#toc1_1_3_)    \n",
    "    - [Data Dictionary](#toc1_1_4_)    \n",
    "      - [Data Dictionary](#toc1_1_4_1_)    \n",
    "    - [Class Distribution](#toc1_1_5_)    \n",
    "\n",
    "<!-- vscode-jupyter-toc-config\n",
    "\tnumbering=false\n",
    "\tanchor=true\n",
    "\tflat=false\n",
    "\tminLevel=1\n",
    "\tmaxLevel=6\n",
    "\t/vscode-jupyter-toc-config -->\n",
    "<!-- THIS CELL WILL BE REPLACED ON TOC UPDATE. DO NOT WRITE YOUR TEXT IN THIS CELL -->"
   ]
  },
  {
   "cell_type": "markdown",
   "metadata": {},
   "source": [
    "### <a id='toc1_1_2_'></a>[Convert CSV to .db file](#toc0_)"
   ]
  },
  {
   "cell_type": "code",
   "execution_count": null,
   "metadata": {},
   "outputs": [],
   "source": [
    "## Code block to convert csv file to .db using pandas\n",
    "\n",
    "import pandas as pd\n",
    "import sqlite3\n",
    "\n",
    "# Load the CSV into a Pandas DataFrame\n",
    "df = pd.read_csv('credit_card_fraud.csv')\n",
    "\n",
    "# Create an SQLite database (or connect to an existing one)\n",
    "conn = sqlite3.connect('credit_card_fraud.db')\n",
    "\n",
    "# Write the data from the DataFrame to a new table in the SQLite database\n",
    "df.to_sql('your_table_name', conn, if_exists='replace', index=False)\n",
    "\n",
    "# Close the connection\n",
    "conn.close()"
   ]
  },
  {
   "cell_type": "markdown",
   "metadata": {},
   "source": [
    "### <a id='toc1_1_3_'></a>[Load the SQL Extension and Database](#toc0_)"
   ]
  },
  {
   "cell_type": "code",
   "execution_count": 2,
   "metadata": {},
   "outputs": [],
   "source": [
    "# Load the SQL extension\n",
    "# %load_ext sql\n",
    "%reload_ext sql\n",
    "\n",
    "# Connect to your SQLite database\n",
    "%sql sqlite:///C:/Users/Laxman/OneDrive/Documents/Portfolio/SQL/Projects/CreditCardFraud/credit_card_fraud.db"
   ]
  },
  {
   "cell_type": "markdown",
   "metadata": {},
   "source": [
    "### <a id='toc1_1_4_'></a>[Data Dictionary](#toc0_)"
   ]
  },
  {
   "cell_type": "code",
   "execution_count": 7,
   "metadata": {},
   "outputs": [
    {
     "name": "stdout",
     "output_type": "stream",
     "text": [
      " * sqlite:///C:/Users/Laxman/OneDrive/Documents/Portfolio/SQL/Projects/CreditCardFraud/credit_card_fraud.db\n",
      "Done.\n"
     ]
    },
    {
     "data": {
      "text/html": [
       "<table>\n",
       "    <thead>\n",
       "        <tr>\n",
       "            <th>trans_date_trans_time</th>\n",
       "            <th>merchant</th>\n",
       "            <th>category</th>\n",
       "            <th>amt</th>\n",
       "            <th>city</th>\n",
       "            <th>state</th>\n",
       "            <th>lat</th>\n",
       "            <th>long</th>\n",
       "            <th>city_pop</th>\n",
       "            <th>job</th>\n",
       "            <th>dob</th>\n",
       "            <th>trans_num</th>\n",
       "            <th>merch_lat</th>\n",
       "            <th>merch_long</th>\n",
       "            <th>is_fraud</th>\n",
       "        </tr>\n",
       "    </thead>\n",
       "    <tbody>\n",
       "        <tr>\n",
       "            <td>2019-01-01 00:00:44</td>\n",
       "            <td>Heller, Gutmann and Zieme</td>\n",
       "            <td>grocery_pos</td>\n",
       "            <td>107.23</td>\n",
       "            <td>Orient</td>\n",
       "            <td>WA</td>\n",
       "            <td>48.8878</td>\n",
       "            <td>-118.2105</td>\n",
       "            <td>149</td>\n",
       "            <td>Special educational needs teacher</td>\n",
       "            <td>1978-06-21</td>\n",
       "            <td>1f76529f8574734946361c461b024d99</td>\n",
       "            <td>49.159047</td>\n",
       "            <td>-118.186462</td>\n",
       "            <td>0</td>\n",
       "        </tr>\n",
       "        <tr>\n",
       "            <td>2019-01-01 00:00:51</td>\n",
       "            <td>Lind-Buckridge</td>\n",
       "            <td>entertainment</td>\n",
       "            <td>220.11</td>\n",
       "            <td>Malad City</td>\n",
       "            <td>ID</td>\n",
       "            <td>42.1808</td>\n",
       "            <td>-112.262</td>\n",
       "            <td>4154</td>\n",
       "            <td>Nature conservation officer</td>\n",
       "            <td>1962-01-19</td>\n",
       "            <td>a1a22d70485983eac12b5b88dad1cf95</td>\n",
       "            <td>43.150704</td>\n",
       "            <td>-112.154481</td>\n",
       "            <td>0</td>\n",
       "        </tr>\n",
       "        <tr>\n",
       "            <td>2019-01-01 00:07:27</td>\n",
       "            <td>Kiehn Inc</td>\n",
       "            <td>grocery_pos</td>\n",
       "            <td>96.29</td>\n",
       "            <td>Grenada</td>\n",
       "            <td>CA</td>\n",
       "            <td>41.6125</td>\n",
       "            <td>-122.5258</td>\n",
       "            <td>589</td>\n",
       "            <td>Systems analyst</td>\n",
       "            <td>1945-12-21</td>\n",
       "            <td>413636e759663f264aae1819a4d4f231</td>\n",
       "            <td>41.65752</td>\n",
       "            <td>-122.230347</td>\n",
       "            <td>0</td>\n",
       "        </tr>\n",
       "        <tr>\n",
       "            <td>2019-01-01 00:09:03</td>\n",
       "            <td>Beier-Hyatt</td>\n",
       "            <td>shopping_pos</td>\n",
       "            <td>7.77</td>\n",
       "            <td>High Rolls Mountain Park</td>\n",
       "            <td>NM</td>\n",
       "            <td>32.9396</td>\n",
       "            <td>-105.8189</td>\n",
       "            <td>899</td>\n",
       "            <td>Naval architect</td>\n",
       "            <td>1967-08-30</td>\n",
       "            <td>8a6293af5ed278dea14448ded2685fea</td>\n",
       "            <td>32.863258</td>\n",
       "            <td>-106.520205</td>\n",
       "            <td>0</td>\n",
       "        </tr>\n",
       "        <tr>\n",
       "            <td>2019-01-01 00:21:32</td>\n",
       "            <td>Bruen-Yost</td>\n",
       "            <td>misc_pos</td>\n",
       "            <td>6.85</td>\n",
       "            <td>Freedom</td>\n",
       "            <td>WY</td>\n",
       "            <td>43.0172</td>\n",
       "            <td>-111.0292</td>\n",
       "            <td>471</td>\n",
       "            <td>Education officer, museum</td>\n",
       "            <td>1967-08-02</td>\n",
       "            <td>f3c43d336e92a44fc2fb67058d5949e3</td>\n",
       "            <td>43.753735</td>\n",
       "            <td>-111.454923</td>\n",
       "            <td>0</td>\n",
       "        </tr>\n",
       "        <tr>\n",
       "            <td>2019-01-01 00:22:06</td>\n",
       "            <td>Kunze Inc</td>\n",
       "            <td>grocery_pos</td>\n",
       "            <td>90.22</td>\n",
       "            <td>Honokaa</td>\n",
       "            <td>HI</td>\n",
       "            <td>20.0827</td>\n",
       "            <td>-155.488</td>\n",
       "            <td>4878</td>\n",
       "            <td>Physiotherapist</td>\n",
       "            <td>1966-12-03</td>\n",
       "            <td>95826e3caa9e0b905294c6dae985aec1</td>\n",
       "            <td>19.560013</td>\n",
       "            <td>-156.045889</td>\n",
       "            <td>0</td>\n",
       "        </tr>\n",
       "        <tr>\n",
       "            <td>2019-01-01 00:22:18</td>\n",
       "            <td>Nitzsche, Kessler and Wol</td>\n",
       "            <td>shopping_pos</td>\n",
       "            <td>4.02</td>\n",
       "            <td>Valentine</td>\n",
       "            <td>NE</td>\n",
       "            <td>42.8062</td>\n",
       "            <td>-100.6215</td>\n",
       "            <td>4005</td>\n",
       "            <td>Network engineer</td>\n",
       "            <td>1945-03-15</td>\n",
       "            <td>20490f3f0966ce74b4aaba8dc2c4ed52</td>\n",
       "            <td>42.47559</td>\n",
       "            <td>-101.265846</td>\n",
       "            <td>0</td>\n",
       "        </tr>\n",
       "        <tr>\n",
       "            <td>2019-01-01 00:22:36</td>\n",
       "            <td>Kihn, Abernathy and Douglas</td>\n",
       "            <td>shopping_net</td>\n",
       "            <td>3.66</td>\n",
       "            <td>Westfir</td>\n",
       "            <td>OR</td>\n",
       "            <td>43.7575</td>\n",
       "            <td>-122.481</td>\n",
       "            <td>597</td>\n",
       "            <td>Forensic psychologist</td>\n",
       "            <td>1961-05-19</td>\n",
       "            <td>870c92b288a974a2faf1f24b05c27e33</td>\n",
       "            <td>44.278191</td>\n",
       "            <td>-121.815161</td>\n",
       "            <td>0</td>\n",
       "        </tr>\n",
       "        <tr>\n",
       "            <td>2019-01-01 00:31:51</td>\n",
       "            <td>Ledner-Pfannerstill</td>\n",
       "            <td>gas_transport</td>\n",
       "            <td>102.13</td>\n",
       "            <td>Thompson</td>\n",
       "            <td>UT</td>\n",
       "            <td>38.9999</td>\n",
       "            <td>-109.615</td>\n",
       "            <td>46</td>\n",
       "            <td>Surveyor, minerals</td>\n",
       "            <td>1987-04-23</td>\n",
       "            <td>47238da5b40d126c8abea40a857c7809</td>\n",
       "            <td>39.807313</td>\n",
       "            <td>-109.348294</td>\n",
       "            <td>0</td>\n",
       "        </tr>\n",
       "        <tr>\n",
       "            <td>2019-01-01 00:34:10</td>\n",
       "            <td>Stracke-Lemke</td>\n",
       "            <td>grocery_pos</td>\n",
       "            <td>83.07</td>\n",
       "            <td>Conway</td>\n",
       "            <td>WA</td>\n",
       "            <td>48.34</td>\n",
       "            <td>-122.3456</td>\n",
       "            <td>85</td>\n",
       "            <td>Research officer, political party</td>\n",
       "            <td>1984-09-01</td>\n",
       "            <td>9b7a0619dcc5c572dc134f2827ed5a6b</td>\n",
       "            <td>48.682111</td>\n",
       "            <td>-122.719904</td>\n",
       "            <td>0</td>\n",
       "        </tr>\n",
       "    </tbody>\n",
       "</table>"
      ],
      "text/plain": [
       "[('2019-01-01 00:00:44', 'Heller, Gutmann and Zieme', 'grocery_pos', 107.23, 'Orient', 'WA', 48.8878, -118.2105, 149, 'Special educational needs teacher', '1978-06-21', '1f76529f8574734946361c461b024d99', 49.159047, -118.186462, 0),\n",
       " ('2019-01-01 00:00:51', 'Lind-Buckridge', 'entertainment', 220.11, 'Malad City', 'ID', 42.1808, -112.262, 4154, 'Nature conservation officer', '1962-01-19', 'a1a22d70485983eac12b5b88dad1cf95', 43.150704, -112.154481, 0),\n",
       " ('2019-01-01 00:07:27', 'Kiehn Inc', 'grocery_pos', 96.29, 'Grenada', 'CA', 41.6125, -122.5258, 589, 'Systems analyst', '1945-12-21', '413636e759663f264aae1819a4d4f231', 41.65752, -122.230347, 0),\n",
       " ('2019-01-01 00:09:03', 'Beier-Hyatt', 'shopping_pos', 7.77, 'High Rolls Mountain Park', 'NM', 32.9396, -105.8189, 899, 'Naval architect', '1967-08-30', '8a6293af5ed278dea14448ded2685fea', 32.863258, -106.520205, 0),\n",
       " ('2019-01-01 00:21:32', 'Bruen-Yost', 'misc_pos', 6.85, 'Freedom', 'WY', 43.0172, -111.0292, 471, 'Education officer, museum', '1967-08-02', 'f3c43d336e92a44fc2fb67058d5949e3', 43.753735, -111.454923, 0),\n",
       " ('2019-01-01 00:22:06', 'Kunze Inc', 'grocery_pos', 90.22, 'Honokaa', 'HI', 20.0827, -155.488, 4878, 'Physiotherapist', '1966-12-03', '95826e3caa9e0b905294c6dae985aec1', 19.560013, -156.045889, 0),\n",
       " ('2019-01-01 00:22:18', 'Nitzsche, Kessler and Wol', 'shopping_pos', 4.02, 'Valentine', 'NE', 42.8062, -100.6215, 4005, 'Network engineer', '1945-03-15', '20490f3f0966ce74b4aaba8dc2c4ed52', 42.47559, -101.265846, 0),\n",
       " ('2019-01-01 00:22:36', 'Kihn, Abernathy and Douglas', 'shopping_net', 3.66, 'Westfir', 'OR', 43.7575, -122.481, 597, 'Forensic psychologist', '1961-05-19', '870c92b288a974a2faf1f24b05c27e33', 44.278191, -121.815161, 0),\n",
       " ('2019-01-01 00:31:51', 'Ledner-Pfannerstill', 'gas_transport', 102.13, 'Thompson', 'UT', 38.9999, -109.615, 46, 'Surveyor, minerals', '1987-04-23', '47238da5b40d126c8abea40a857c7809', 39.807313, -109.348294, 0),\n",
       " ('2019-01-01 00:34:10', 'Stracke-Lemke', 'grocery_pos', 83.07, 'Conway', 'WA', 48.34, -122.3456, 85, 'Research officer, political party', '1984-09-01', '9b7a0619dcc5c572dc134f2827ed5a6b', 48.682111, -122.719904, 0)]"
      ]
     },
     "execution_count": 7,
     "metadata": {},
     "output_type": "execute_result"
    }
   ],
   "source": [
    "%%sql\n",
    "SELECT * FROM transactions LIMIT 5;"
   ]
  },
  {
   "cell_type": "markdown",
   "metadata": {},
   "source": [
    "#### <a id='toc1_1_4_1_'></a>[Data Dictionary](#toc0_)\n",
    "\n",
    "| transdatetrans_time | Transaction DateTime                        |\n",
    "|---------------------|---------------------------------------------|\n",
    "| merchant            | Merchant Name                               |\n",
    "| category            | Category of Merchant                        |\n",
    "| amt                 | Amount of Transaction                       |\n",
    "| city                | City of Credit Card Holder                  |\n",
    "| state               | State of Credit Card Holder                 |\n",
    "| lat                 | Latitude Location of Purchase               |\n",
    "| long                | Longitude Location of Purchase              |\n",
    "| city_pop            | Credit Card Holder's City Population        |\n",
    "| job                 | Job of Credit Card Holder                   |\n",
    "| dob                 | Date of Birth of Credit Card Holder         |\n",
    "| trans_num           | Transaction Number                          |\n",
    "| merch_lat           | Latitude Location of Merchant               |\n",
    "| merch_long          | Longitude Location of Merchant              |\n",
    "| is_fraud            | Whether Transaction is Fraud (1) or Not (0) |"
   ]
  },
  {
   "cell_type": "markdown",
   "metadata": {},
   "source": [
    "### <a id='toc1_1_5_'></a>[Class Distribution](#toc0_)"
   ]
  },
  {
   "cell_type": "code",
   "execution_count": 16,
   "metadata": {},
   "outputs": [
    {
     "name": "stdout",
     "output_type": "stream",
     "text": [
      " * sqlite:///C:/Users/Laxman/OneDrive/Documents/Portfolio/SQL/Projects/CreditCardFraud/credit_card_fraud.db\n",
      "Done.\n"
     ]
    },
    {
     "data": {
      "text/html": [
       "<table>\n",
       "    <thead>\n",
       "        <tr>\n",
       "            <th>not_fraud</th>\n",
       "            <th>is_fraud</th>\n",
       "        </tr>\n",
       "    </thead>\n",
       "    <tbody>\n",
       "        <tr>\n",
       "            <td>337825</td>\n",
       "            <td>1782</td>\n",
       "        </tr>\n",
       "    </tbody>\n",
       "</table>"
      ],
      "text/plain": [
       "[(337825, 1782)]"
      ]
     },
     "execution_count": 16,
     "metadata": {},
     "output_type": "execute_result"
    }
   ],
   "source": [
    "%%sql\n",
    "SELECT \n",
    "    SUM(CASE WHEN is_fraud = 0 THEN 1 ELSE 0 END) AS not_fraud,\n",
    "    SUM(CASE WHEN is_fraud = 1 THEN 1 ELSE 0 END) AS is_fraud\n",
    "FROM transactions;"
   ]
  },
  {
   "cell_type": "markdown",
   "metadata": {},
   "source": [
    "| not_fraud | is_fraud |\n",
    "|-----------|----------|\n",
    "| 337825    | 1782     |\n",
    "\n",
    "This SQL query calculates the total number of non-fraudulent and fraudulent transactions in the transactions table. Ratio of non-fraudulent to fraudulent transactions is 169:1. Using SMOTE(Synthetic Minority Over-sampling Technique) in future studies might be beneficial when creating a model to predict fraudulent transactions to improve the model performance and as the imbalance can lead to biases. More research is required in SMOTE."
   ]
  }
 ],
 "metadata": {
  "kernelspec": {
   "display_name": "Python 3",
   "language": "python",
   "name": "python3"
  },
  "language_info": {
   "codemirror_mode": {
    "name": "ipython",
    "version": 3
   },
   "file_extension": ".py",
   "mimetype": "text/x-python",
   "name": "python",
   "nbconvert_exporter": "python",
   "pygments_lexer": "ipython3",
   "version": "3.12.7"
  }
 },
 "nbformat": 4,
 "nbformat_minor": 2
}
