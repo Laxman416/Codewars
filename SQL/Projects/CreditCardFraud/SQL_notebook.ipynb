{
 "cells": [
  {
   "cell_type": "markdown",
   "metadata": {},
   "source": [
    "# Credit Card Fraud\n",
    "\n",
    "This dataset consists of credit card transactions in the western United States. It includes information about each transaction including customer details, the merchant and category of purchase, and whether or not the transaction was a fraud."
   ]
  },
  {
   "cell_type": "code",
   "execution_count": 6,
   "metadata": {},
   "outputs": [],
   "source": [
    "## Code block to convert csv file to .db using pandas\n",
    "\n",
    "import pandas as pd\n",
    "import sqlite3\n",
    "\n",
    "# Load the CSV into a Pandas DataFrame\n",
    "df = pd.read_csv('credit_card_fraud.csv')\n",
    "\n",
    "# Create an SQLite database (or connect to an existing one)\n",
    "conn = sqlite3.connect('credit_card_fraud.db')\n",
    "\n",
    "# Write the data from the DataFrame to a new table in the SQLite database\n",
    "df.to_sql('your_table_name', conn, if_exists='replace', index=False)\n",
    "\n",
    "# Close the connection\n",
    "conn.close()"
   ]
  },
  {
   "cell_type": "code",
   "execution_count": 10,
   "metadata": {},
   "outputs": [
    {
     "name": "stdout",
     "output_type": "stream",
     "text": [
      "The sql extension is already loaded. To reload it, use:\n",
      "  %reload_ext sql\n"
     ]
    }
   ],
   "source": [
    "# loading sql extension and database\n",
    "\n",
    "%load_ext sql\n",
    "%sql sqlite:///C:/Users/Laxman/OneDrive/Documents/CodingRepository/SQL/Projects/CreditCardFraud/credit_card_fraud.db"
   ]
  },
  {
   "cell_type": "code",
   "execution_count": 16,
   "metadata": {},
   "outputs": [
    {
     "name": "stdout",
     "output_type": "stream",
     "text": [
      " * sqlite:///C:/Users/Laxman/OneDrive/Documents/CodingRepository/SQL/Projects/CreditCardFraud/credit_card_fraud.db\n",
      "   sqlite:///C:/Users/Laxman/OneDrive/Documents/CodingRepository/SQL/Projects/credit_card_fraud.db\n",
      "Done.\n"
     ]
    },
    {
     "data": {
      "text/html": [
       "<table>\n",
       "    <thead>\n",
       "        <tr>\n",
       "            <th>trans_date_trans_time</th>\n",
       "            <th>merchant</th>\n",
       "            <th>category</th>\n",
       "            <th>amt</th>\n",
       "            <th>city</th>\n",
       "            <th>state</th>\n",
       "            <th>lat</th>\n",
       "            <th>long</th>\n",
       "            <th>city_pop</th>\n",
       "            <th>job</th>\n",
       "            <th>dob</th>\n",
       "            <th>trans_num</th>\n",
       "            <th>merch_lat</th>\n",
       "            <th>merch_long</th>\n",
       "            <th>is_fraud</th>\n",
       "        </tr>\n",
       "    </thead>\n",
       "    <tbody>\n",
       "        <tr>\n",
       "            <td>2019-01-01 00:00:44</td>\n",
       "            <td>Heller, Gutmann and Zieme</td>\n",
       "            <td>grocery_pos</td>\n",
       "            <td>107.23</td>\n",
       "            <td>Orient</td>\n",
       "            <td>WA</td>\n",
       "            <td>48.8878</td>\n",
       "            <td>-118.2105</td>\n",
       "            <td>149</td>\n",
       "            <td>Special educational needs teacher</td>\n",
       "            <td>1978-06-21</td>\n",
       "            <td>1f76529f8574734946361c461b024d99</td>\n",
       "            <td>49.159047</td>\n",
       "            <td>-118.186462</td>\n",
       "            <td>0</td>\n",
       "        </tr>\n",
       "        <tr>\n",
       "            <td>2019-01-01 00:00:51</td>\n",
       "            <td>Lind-Buckridge</td>\n",
       "            <td>entertainment</td>\n",
       "            <td>220.11</td>\n",
       "            <td>Malad City</td>\n",
       "            <td>ID</td>\n",
       "            <td>42.1808</td>\n",
       "            <td>-112.262</td>\n",
       "            <td>4154</td>\n",
       "            <td>Nature conservation officer</td>\n",
       "            <td>1962-01-19</td>\n",
       "            <td>a1a22d70485983eac12b5b88dad1cf95</td>\n",
       "            <td>43.150704</td>\n",
       "            <td>-112.154481</td>\n",
       "            <td>0</td>\n",
       "        </tr>\n",
       "        <tr>\n",
       "            <td>2019-01-01 00:07:27</td>\n",
       "            <td>Kiehn Inc</td>\n",
       "            <td>grocery_pos</td>\n",
       "            <td>96.29</td>\n",
       "            <td>Grenada</td>\n",
       "            <td>CA</td>\n",
       "            <td>41.6125</td>\n",
       "            <td>-122.5258</td>\n",
       "            <td>589</td>\n",
       "            <td>Systems analyst</td>\n",
       "            <td>1945-12-21</td>\n",
       "            <td>413636e759663f264aae1819a4d4f231</td>\n",
       "            <td>41.65752</td>\n",
       "            <td>-122.230347</td>\n",
       "            <td>0</td>\n",
       "        </tr>\n",
       "        <tr>\n",
       "            <td>2019-01-01 00:09:03</td>\n",
       "            <td>Beier-Hyatt</td>\n",
       "            <td>shopping_pos</td>\n",
       "            <td>7.77</td>\n",
       "            <td>High Rolls Mountain Park</td>\n",
       "            <td>NM</td>\n",
       "            <td>32.9396</td>\n",
       "            <td>-105.8189</td>\n",
       "            <td>899</td>\n",
       "            <td>Naval architect</td>\n",
       "            <td>1967-08-30</td>\n",
       "            <td>8a6293af5ed278dea14448ded2685fea</td>\n",
       "            <td>32.863258</td>\n",
       "            <td>-106.520205</td>\n",
       "            <td>0</td>\n",
       "        </tr>\n",
       "        <tr>\n",
       "            <td>2019-01-01 00:21:32</td>\n",
       "            <td>Bruen-Yost</td>\n",
       "            <td>misc_pos</td>\n",
       "            <td>6.85</td>\n",
       "            <td>Freedom</td>\n",
       "            <td>WY</td>\n",
       "            <td>43.0172</td>\n",
       "            <td>-111.0292</td>\n",
       "            <td>471</td>\n",
       "            <td>Education officer, museum</td>\n",
       "            <td>1967-08-02</td>\n",
       "            <td>f3c43d336e92a44fc2fb67058d5949e3</td>\n",
       "            <td>43.753735</td>\n",
       "            <td>-111.454923</td>\n",
       "            <td>0</td>\n",
       "        </tr>\n",
       "    </tbody>\n",
       "</table>"
      ],
      "text/plain": [
       "[('2019-01-01 00:00:44', 'Heller, Gutmann and Zieme', 'grocery_pos', 107.23, 'Orient', 'WA', 48.8878, -118.2105, 149, 'Special educational needs teacher', '1978-06-21', '1f76529f8574734946361c461b024d99', 49.159047, -118.186462, 0),\n",
       " ('2019-01-01 00:00:51', 'Lind-Buckridge', 'entertainment', 220.11, 'Malad City', 'ID', 42.1808, -112.262, 4154, 'Nature conservation officer', '1962-01-19', 'a1a22d70485983eac12b5b88dad1cf95', 43.150704, -112.154481, 0),\n",
       " ('2019-01-01 00:07:27', 'Kiehn Inc', 'grocery_pos', 96.29, 'Grenada', 'CA', 41.6125, -122.5258, 589, 'Systems analyst', '1945-12-21', '413636e759663f264aae1819a4d4f231', 41.65752, -122.230347, 0),\n",
       " ('2019-01-01 00:09:03', 'Beier-Hyatt', 'shopping_pos', 7.77, 'High Rolls Mountain Park', 'NM', 32.9396, -105.8189, 899, 'Naval architect', '1967-08-30', '8a6293af5ed278dea14448ded2685fea', 32.863258, -106.520205, 0),\n",
       " ('2019-01-01 00:21:32', 'Bruen-Yost', 'misc_pos', 6.85, 'Freedom', 'WY', 43.0172, -111.0292, 471, 'Education officer, museum', '1967-08-02', 'f3c43d336e92a44fc2fb67058d5949e3', 43.753735, -111.454923, 0)]"
      ]
     },
     "execution_count": 16,
     "metadata": {},
     "output_type": "execute_result"
    }
   ],
   "source": [
    "%%sql\n",
    "SELECT * FROM transactions LIMIT 5;"
   ]
  }
 ],
 "metadata": {
  "kernelspec": {
   "display_name": "Python 3",
   "language": "python",
   "name": "python3"
  },
  "language_info": {
   "codemirror_mode": {
    "name": "ipython",
    "version": 3
   },
   "file_extension": ".py",
   "mimetype": "text/x-python",
   "name": "python",
   "nbconvert_exporter": "python",
   "pygments_lexer": "ipython3",
   "version": "3.12.7"
  }
 },
 "nbformat": 4,
 "nbformat_minor": 2
}
